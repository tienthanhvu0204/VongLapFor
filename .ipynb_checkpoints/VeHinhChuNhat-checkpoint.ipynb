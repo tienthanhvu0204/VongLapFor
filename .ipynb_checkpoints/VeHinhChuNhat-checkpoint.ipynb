{
 "cells": [
  {
   "cell_type": "code",
   "execution_count": 1,
   "id": "e53d13af",
   "metadata": {},
   "outputs": [
    {
     "name": "stdout",
     "output_type": "stream",
     "text": [
      "Ký tự dùng là: h\n",
      "Chiều cao hình là: 4\n",
      "Chiều rộng hình là: 100\n",
      "hhhhhhhhhhhhhhhhhhhhhhhhhhhhhhhhhhhhhhhhhhhhhhhhhhhhhhhhhhhhhhhhhhhhhhhhhhhhhhhhhhhhhhhhhhhhhhhhhhhh\n",
      "h                                                                                                  h\n",
      "h                                                                                                  h\n",
      "hhhhhhhhhhhhhhhhhhhhhhhhhhhhhhhhhhhhhhhhhhhhhhhhhhhhhhhhhhhhhhhhhhhhhhhhhhhhhhhhhhhhhhhhhhhhhhhhhhhh\n"
     ]
    }
   ],
   "source": [
    "letter = input (\"Ký tự dùng là: \")\n",
    "high = int (input (\"Chiều cao hình là: \"))\n",
    "width = int (input (\"Chiều rộng hình là: \"))\n",
    "\n",
    "for i in range (high):\n",
    "    if i == 0 or i == high - 1:\n",
    "        print (letter * width, sep = \"\")\n",
    "    else:\n",
    "\n",
    "        for j in range (width):\n",
    "            if j == 0:\n",
    "                print (letter, end = \"\")\n",
    "            elif j == width - 1:\n",
    "                print (letter)\n",
    "            else:\n",
    "                print (\" \", end = \"\")\n",
    "\n",
    "\n"
   ]
  },
  {
   "cell_type": "code",
   "execution_count": 2,
   "id": "495cffe3",
   "metadata": {},
   "outputs": [
    {
     "name": "stdout",
     "output_type": "stream",
     "text": [
      "Ký tự dùng là: h\n",
      "Chiều cao hình là: 4\n",
      "Chiều rộng hình là: 100\n",
      "hhhhhhhhhhhhhhhhhhhhhhhhhhhhhhhhhhhhhhhhhhhhhhhhhhhhhhhhhhhhhhhhhhhhhhhhhhhhhhhhhhhhhhhhhhhhhhhhhhhh\n",
      "h                                                                                                  h\n",
      "h                                                                                                  h\n",
      "hhhhhhhhhhhhhhhhhhhhhhhhhhhhhhhhhhhhhhhhhhhhhhhhhhhhhhhhhhhhhhhhhhhhhhhhhhhhhhhhhhhhhhhhhhhhhhhhhhhh\n"
     ]
    }
   ],
   "source": [
    "letter = input (\"Ký tự dùng là: \")\n",
    "high = int (input (\"Chiều cao hình là: \"))\n",
    "width = int (input (\"Chiều rộng hình là: \"))\n",
    "\n",
    "for i in range (high):\n",
    "    if i == 0 or i == high - 1:\n",
    "        print (letter * width, sep = \"\")\n",
    "    else:\n",
    "        print (letter, \" \" * (width - 2), letter, sep = \"\")\n",
    "#         for j in range (width):\n",
    "#             if j == 0:\n",
    "#                 print (letter, end = \"\")\n",
    "#             elif j == width - 1:\n",
    "#                 print (letter)\n",
    "#             else:\n",
    "#                 print (\" \", end = \"\")\n",
    "\n",
    "\n"
   ]
  },
  {
   "cell_type": "code",
   "execution_count": 4,
   "id": "02cc5371",
   "metadata": {},
   "outputs": [
    {
     "name": "stdout",
     "output_type": "stream",
     "text": [
      "Your char?: h\n",
      "Width?: 100\n",
      "Height?: 4\n",
      "hhhhhhhhhhhhhhhhhhhhhhhhhhhhhhhhhhhhhhhhhhhhhhhhhhhhhhhhhhhhhhhhhhhhhhhhhhhhhhhhhhhhhhhhhhhhhhhhhhhh\n",
      "h                                                                                                  h\n",
      "h                                                                                                  h\n",
      "hhhhhhhhhhhhhhhhhhhhhhhhhhhhhhhhhhhhhhhhhhhhhhhhhhhhhhhhhhhhhhhhhhhhhhhhhhhhhhhhhhhhhhhhhhhhhhhhhhhh\n"
     ]
    }
   ],
   "source": [
    "char = input('Your char?: ')\n",
    "width = int(input('Width?: '))\n",
    "height = int(input('Height?: '))\n",
    "\n",
    "for i in range(1,height + 1):\n",
    "    print_str = ''\n",
    "    for j in range(1,width + 1):\n",
    "        if i == 1 or i == height:\n",
    "            print_str += char\n",
    "        else:\n",
    "            if j == 1 or j == width:\n",
    "                print_str += char\n",
    "            else:\n",
    "                print_str += ' '\n",
    "    print(print_str)"
   ]
  },
  {
   "cell_type": "code",
   "execution_count": null,
   "id": "1de55f7f",
   "metadata": {},
   "outputs": [],
   "source": []
  }
 ],
 "metadata": {
  "kernelspec": {
   "display_name": "Python 3 (ipykernel)",
   "language": "python",
   "name": "python3"
  },
  "language_info": {
   "codemirror_mode": {
    "name": "ipython",
    "version": 3
   },
   "file_extension": ".py",
   "mimetype": "text/x-python",
   "name": "python",
   "nbconvert_exporter": "python",
   "pygments_lexer": "ipython3",
   "version": "3.9.7"
  }
 },
 "nbformat": 4,
 "nbformat_minor": 5
}
