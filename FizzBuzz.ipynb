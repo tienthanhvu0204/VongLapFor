{
 "cells": [
  {
   "cell_type": "code",
   "execution_count": 11,
   "id": "66351c5c",
   "metadata": {},
   "outputs": [
    {
     "name": "stdout",
     "output_type": "stream",
     "text": [
      "Nhập 2 số \"(a:b)\": (1:10)\n",
      "1 2 Fizz 4 Buzz Fizz 7 8 Fizz Buzz "
     ]
    }
   ],
   "source": [
    "x0_x1 = input (\"\"\"Nhập 2 số \"(a:b)\": \"\"\")\n",
    "\n",
    "count = 0\n",
    "for i in range (len(x0_x1)):\n",
    "    count = i\n",
    "    if x0_x1 [i] == \":\":\n",
    "        break\n",
    "        \n",
    "x0 = int (x0_x1 [1: int (count)])\n",
    "x1 = int (x0_x1 [int (count) + 1: len (x0_x1) - 1:])\n",
    "\n",
    "\n",
    "for i in range (x0, x1 + 1):\n",
    "    if i % 3 == 0:\n",
    "        if i % 5 == 0:\n",
    "            print (\"FizzBuzz\", end = \" \")\n",
    "        else:\n",
    "            print (\"Fizz\", end = \" \")\n",
    "    else:\n",
    "        print (\"Buzz\", end = \" \") if i % 5 == 0 else print (i, end = \" \")\n",
    " "
   ]
  },
  {
   "cell_type": "code",
   "execution_count": null,
   "id": "c7c02d12",
   "metadata": {},
   "outputs": [],
   "source": []
  },
  {
   "cell_type": "code",
   "execution_count": null,
   "id": "4b8b0e99",
   "metadata": {},
   "outputs": [],
   "source": []
  }
 ],
 "metadata": {
  "kernelspec": {
   "display_name": "Python 3 (ipykernel)",
   "language": "python",
   "name": "python3"
  },
  "language_info": {
   "codemirror_mode": {
    "name": "ipython",
    "version": 3
   },
   "file_extension": ".py",
   "mimetype": "text/x-python",
   "name": "python",
   "nbconvert_exporter": "python",
   "pygments_lexer": "ipython3",
   "version": "3.9.7"
  }
 },
 "nbformat": 4,
 "nbformat_minor": 5
}
