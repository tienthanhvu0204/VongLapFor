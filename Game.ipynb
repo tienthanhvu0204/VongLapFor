{
 "cells": [
  {
   "cell_type": "code",
   "execution_count": null,
   "id": "c06b5323",
   "metadata": {},
   "outputs": [],
   "source": [
    "import random\n",
    "\n",
    "sum = 0\n",
    "\n",
    "player = random.randint (0, 1)\n",
    "while True:\n",
    "    if player == 0:\n",
    "        while True:\n",
    "            add = int (input (\"Nhập số từ 1-3: \"))\n",
    "            if add in [1, 2, 3]:\n",
    "                break\n",
    "        sum += add\n",
    "        print (\"Bạn chọn: \", add)\n",
    "        player = 1\n",
    "        if sum >= 21:\n",
    "            print (\"Bạn thua rồi!\")\n",
    "            break\n",
    "    else:\n",
    "        add = random.randint (1, 3)\n",
    "        sum += add\n",
    "        print (\"Máy chọn: \", add)\n",
    "        player = 0\n",
    "        if sum >= 21:\n",
    "            print (\"Tôi thua rồi!\")\n",
    "            break\n",
    "            \n",
    "    print (\"Tổng là: \", sum)   \n",
    "    "
   ]
  },
  {
   "cell_type": "code",
   "execution_count": null,
   "id": "2ad834f2",
   "metadata": {},
   "outputs": [],
   "source": []
  }
 ],
 "metadata": {
  "kernelspec": {
   "display_name": "Python 3 (ipykernel)",
   "language": "python",
   "name": "python3"
  },
  "language_info": {
   "codemirror_mode": {
    "name": "ipython",
    "version": 3
   },
   "file_extension": ".py",
   "mimetype": "text/x-python",
   "name": "python",
   "nbconvert_exporter": "python",
   "pygments_lexer": "ipython3",
   "version": "3.9.7"
  }
 },
 "nbformat": 4,
 "nbformat_minor": 5
}
