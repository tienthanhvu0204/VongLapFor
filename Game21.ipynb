{
 "cells": [
  {
   "cell_type": "code",
   "execution_count": null,
   "id": "b1bff55b",
   "metadata": {},
   "outputs": [],
   "source": [
    "import random\n",
    "\n",
    "current_number = 0\n",
    "# current_player = 0 nguoi choi la human\n",
    "# current_player = 1 người chơi là machine\n",
    "while True:\n",
    "    print (\"Tổng là: \", current_number)\n",
    "    current_player = random.randint (0, 1)\n",
    "    while current_number < 21:\n",
    "        if current_player == 0:\n",
    "            while True:\n",
    "                player_choice = input (\"Mời bạn nhập số: \")\n",
    "                if player_choice in ['1', '2', '3']:\n",
    "                    break\n",
    "            print (\"Bạn chọn: \", player_choice)\n",
    "            current_number += int (player_choice)\n",
    "            print (\"Tổng hiện tại là: \", current_number)\n",
    "            current_player = 1\n",
    "        else:\n",
    "            player_choice = random.randint (1, 3)\n",
    "            print (\"Máy chọn: \", player_choice)\n",
    "            current_number += player_choice\n",
    "            print (\"Tổng hiện tại là: \", current_number)\n",
    "            current_player = 0\n",
    "    print (\"Human won!\") if current_player == 0 else print (\"Human lose!\")\n",
    "    a = input (\"Bạn có muốn chơi nữa ko? y/n \")\n",
    "    if a == \"n\":\n",
    "        break\n",
    "    elif a == \"y\":\n",
    "        current_number = 0\n",
    "    else:\n",
    "        break\n"
   ]
  },
  {
   "cell_type": "code",
   "execution_count": null,
   "id": "1f9d475d",
   "metadata": {},
   "outputs": [],
   "source": []
  }
 ],
 "metadata": {
  "kernelspec": {
   "display_name": "Python 3 (ipykernel)",
   "language": "python",
   "name": "python3"
  },
  "language_info": {
   "codemirror_mode": {
    "name": "ipython",
    "version": 3
   },
   "file_extension": ".py",
   "mimetype": "text/x-python",
   "name": "python",
   "nbconvert_exporter": "python",
   "pygments_lexer": "ipython3",
   "version": "3.9.7"
  }
 },
 "nbformat": 4,
 "nbformat_minor": 5
}
