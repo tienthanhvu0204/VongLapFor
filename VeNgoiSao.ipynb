{
 "cells": [
  {
   "cell_type": "code",
   "execution_count": 2,
   "id": "5dcb2697",
   "metadata": {},
   "outputs": [],
   "source": [
    "import turtle\n",
    "screen = turtle.Screen ()\n",
    "screen.setup (1000, 1000)\n",
    "screen.bgcolor = (\"black\")\n",
    "t = turtle.Turtle ()\n"
   ]
  },
  {
   "cell_type": "code",
   "execution_count": 1,
   "id": "b50040eb",
   "metadata": {},
   "outputs": [],
   "source": [
    "import turtle\n",
    "\n",
    "wn = turtle.Screen()\n",
    "wn.bgcolor(\"black\")\n",
    "wn.title(\"Star\")\n",
    "\n",
    "myPen = turtle.Turtle()\n",
    "myPen.speed(0)\n",
    "myPen.color(\"#FF0000\")\n",
    "\n",
    "for j in range (72):\n",
    "    for i in range (1,6):\n",
    "        myPen.left(144)\n",
    "        myPen.forward(200)\n",
    "    myPen.left(5)\n",
    "\n",
    "turtle.done()"
   ]
  },
  {
   "cell_type": "code",
   "execution_count": null,
   "id": "736fd6ca",
   "metadata": {},
   "outputs": [],
   "source": []
  }
 ],
 "metadata": {
  "kernelspec": {
   "display_name": "Python 3 (ipykernel)",
   "language": "python",
   "name": "python3"
  },
  "language_info": {
   "codemirror_mode": {
    "name": "ipython",
    "version": 3
   },
   "file_extension": ".py",
   "mimetype": "text/x-python",
   "name": "python",
   "nbconvert_exporter": "python",
   "pygments_lexer": "ipython3",
   "version": "3.9.7"
  }
 },
 "nbformat": 4,
 "nbformat_minor": 5
}
